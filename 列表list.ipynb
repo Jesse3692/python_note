{
 "cells": [
  {
   "cell_type": "markdown",
   "metadata": {},
   "source": [
    "## 删除列表中的重复元素并保持顺序不变"
   ]
  },
  {
   "cell_type": "code",
   "execution_count": 1,
   "metadata": {},
   "outputs": [],
   "source": [
    "a = [1, 3, 2, 2, 3, 2, 3, 4, 5, 4, 5, 6, 7, 8, 9]"
   ]
  },
  {
   "cell_type": "markdown",
   "metadata": {},
   "source": [
    "### 使用列表和集合"
   ]
  },
  {
   "cell_type": "code",
   "execution_count": 2,
   "metadata": {},
   "outputs": [],
   "source": [
    "def dedupe (lst):\n",
    "    l = []\n",
    "    s = set()\n",
    "    for i in lst:\n",
    "        if i not in s:\n",
    "            l.append(i)\n",
    "            s.add(i)\n",
    "    return l"
   ]
  },
  {
   "cell_type": "markdown",
   "metadata": {},
   "source": [
    "使用list和set这两个数据结构来实现顺序保存元素与元素去重"
   ]
  },
  {
   "cell_type": "code",
   "execution_count": 3,
   "metadata": {},
   "outputs": [
    {
     "name": "stdout",
     "output_type": "stream",
     "text": [
      "[1, 3, 2, 2, 3, 2, 3, 4, 5, 4, 5, 6, 7, 8, 9]\n",
      "[1, 3, 2, 4, 5, 6, 7, 8, 9]\n"
     ]
    }
   ],
   "source": [
    "print(a)\n",
    "print(dedupe(a))"
   ]
  },
  {
   "cell_type": "markdown",
   "metadata": {},
   "source": [
    "### 使用生成器和集合"
   ]
  },
  {
   "cell_type": "code",
   "execution_count": 11,
   "metadata": {},
   "outputs": [],
   "source": [
    "def dedupe(lst):\n",
    "    s = set()\n",
    "    for i in lst:\n",
    "        if i not in s:\n",
    "            yield i\n",
    "            s.add(i)"
   ]
  },
  {
   "cell_type": "code",
   "execution_count": 12,
   "metadata": {},
   "outputs": [
    {
     "name": "stdout",
     "output_type": "stream",
     "text": [
      "[1, 3, 2, 2, 3, 2, 3, 4, 5, 4, 5, 6, 7, 8, 9]\n",
      "[1, 3, 2, 4, 5, 6, 7, 8, 9]\n"
     ]
    }
   ],
   "source": [
    "print(a)\n",
    "print(list(dedupe(a)))"
   ]
  },
  {
   "cell_type": "markdown",
   "metadata": {},
   "source": [
    "使用生成器和集合来实现顺序保存元素和元素去重"
   ]
  },
  {
   "cell_type": "markdown",
   "metadata": {},
   "source": [
    "**上面两种方式都只能适用于可哈希的元素**"
   ]
  },
  {
   "cell_type": "markdown",
   "metadata": {},
   "source": [
    "## 不可哈希元素的去重"
   ]
  },
  {
   "cell_type": "code",
   "execution_count": 14,
   "metadata": {},
   "outputs": [],
   "source": [
    "a = [\n",
    "    {'x':2, 'y':3},\n",
    "    {'x':1, 'y':3},\n",
    "    {'x':2, 'y':3},\n",
    "    {'x':2, 'y':1},\n",
    "    {'x':2, 'y':1,'z':3},\n",
    "]"
   ]
  },
  {
   "cell_type": "code",
   "execution_count": 19,
   "metadata": {},
   "outputs": [],
   "source": [
    "def dedupe(lst, key=None):\n",
    "    s = set()\n",
    "    for i in lst:\n",
    "        val = i if key is None else key(i)\n",
    "        if val not in s:\n",
    "            yield i\n",
    "            s.add(val)\n",
    "            print(s)"
   ]
  },
  {
   "cell_type": "code",
   "execution_count": 20,
   "metadata": {},
   "outputs": [
    {
     "name": "stdout",
     "output_type": "stream",
     "text": [
      "[{'x': 2, 'y': 3}, {'x': 1, 'y': 3}, {'x': 2, 'y': 3}, {'x': 2, 'y': 1}, {'x': 2, 'y': 1, 'z': 3}]\n",
      "{(2, 3)}\n",
      "{(1, 3), (2, 3)}\n",
      "{(1, 3), (2, 3), (2, 1)}\n",
      "[{'x': 2, 'y': 3}, {'x': 1, 'y': 3}, {'x': 2, 'y': 1}]\n"
     ]
    }
   ],
   "source": [
    "print(a)\n",
    "print(list(dedupe(a, key=lambda a:(a['x'],a['y']))))"
   ]
  },
  {
   "cell_type": "markdown",
   "metadata": {},
   "source": [
    "上面的思路就是将不可哈希的元素转换为可哈希的元素"
   ]
  },
  {
   "cell_type": "markdown",
   "metadata": {},
   "source": [
    "**python的基本数据类型中可哈希的有：整数，浮点数，字符串，元组**"
   ]
  },
  {
   "cell_type": "markdown",
   "metadata": {},
   "source": [
    "## 找出列表中出现次数最多的元素"
   ]
  },
  {
   "cell_type": "code",
   "execution_count": null,
   "metadata": {},
   "outputs": [],
   "source": []
  }
 ],
 "metadata": {
  "kernelspec": {
   "display_name": "Python 3",
   "language": "python",
   "name": "python3"
  },
  "language_info": {
   "codemirror_mode": {
    "name": "ipython",
    "version": 3
   },
   "file_extension": ".py",
   "mimetype": "text/x-python",
   "name": "python",
   "nbconvert_exporter": "python",
   "pygments_lexer": "ipython3",
   "version": "3.7.9"
  }
 },
 "nbformat": 4,
 "nbformat_minor": 2
}
