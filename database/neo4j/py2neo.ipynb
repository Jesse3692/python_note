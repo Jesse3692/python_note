{
 "cells": [
  {
   "cell_type": "markdown",
   "metadata": {},
   "source": [
    "# py2neo使用"
   ]
  },
  {
   "cell_type": "markdown",
   "metadata": {},
   "source": [
    "## 创建节点和关系"
   ]
  },
  {
   "cell_type": "code",
   "execution_count": 1,
   "metadata": {},
   "outputs": [],
   "source": [
    "from py2neo import Node, Relationship,Graph"
   ]
  },
  {
   "cell_type": "code",
   "execution_count": 2,
   "metadata": {},
   "outputs": [],
   "source": [
    "graph = Graph('bolt://localhost:7687',username='neo4j', password='123456')"
   ]
  },
  {
   "cell_type": "code",
   "execution_count": 3,
   "metadata": {},
   "outputs": [
    {
     "name": "stdout",
     "output_type": "stream",
     "text": [
      "(:Person {name: 'Alice'}) (:Person {name: 'Bob'}) (Alice)-[:KNOWS {}]->(Bob)\n"
     ]
    }
   ],
   "source": [
    "alice = Node('Person', name='Alice')\n",
    "bob = Node('Person', name='Bob')\n",
    "relationship = Relationship(alice, 'KNOWS', bob)\n",
    "print(alice, bob, relationship)"
   ]
  },
  {
   "cell_type": "markdown",
   "metadata": {},
   "source": [
    "### 添加属性"
   ]
  },
  {
   "cell_type": "markdown",
   "metadata": {},
   "source": [
    "Node和Relationship都继承了PropertyDict类，它可以赋值很多属性，类似于字典的形式。"
   ]
  },
  {
   "cell_type": "code",
   "execution_count": 4,
   "metadata": {},
   "outputs": [
    {
     "name": "stdout",
     "output_type": "stream",
     "text": [
      "(:Person {age: 20, name: 'Alice'}) (:Person {age: 21, name: 'Bob'}) (Alice)-[:KNOWS {time: '2020/02/02'}]->(Bob)\n"
     ]
    }
   ],
   "source": [
    "alice['age'] = 20\n",
    "bob['age'] = 21\n",
    "relationship['time'] = '2020/02/02'\n",
    "print(alice, bob, relationship)"
   ]
  },
  {
   "cell_type": "markdown",
   "metadata": {},
   "source": [
    "#### 添加默认属性"
   ]
  },
  {
   "cell_type": "markdown",
   "metadata": {},
   "source": [
    "也可以通过类似字典的方式，使用setdefault添加默认属性"
   ]
  },
  {
   "cell_type": "code",
   "execution_count": 5,
   "metadata": {},
   "outputs": [
    {
     "name": "stdout",
     "output_type": "stream",
     "text": [
      "(:Person {age: 20, location: '\\u5317\\u4eac', name: 'Alice'})\n"
     ]
    }
   ],
   "source": [
    "alice.setdefault('location', '北京')\n",
    "print(alice)"
   ]
  },
  {
   "cell_type": "markdown",
   "metadata": {},
   "source": [
    "可见没有给alice对象赋值location属性，它就会使用默认属性。"
   ]
  },
  {
   "cell_type": "code",
   "execution_count": 6,
   "metadata": {},
   "outputs": [
    {
     "name": "stdout",
     "output_type": "stream",
     "text": [
      "(:Person {age: 20, location: '\\u4e0a\\u6d77', name: 'Alice'})\n"
     ]
    }
   ],
   "source": [
    "alice['location'] = '上海'\n",
    "alice.setdefault('location', '北京')\n",
    "print(alice)"
   ]
  },
  {
   "cell_type": "markdown",
   "metadata": {},
   "source": [
    "但是如果赋值了location属性，那么它就会覆盖默认属性"
   ]
  },
  {
   "cell_type": "markdown",
   "metadata": {},
   "source": [
    "### 批量更新属性"
   ]
  },
  {
   "cell_type": "code",
   "execution_count": 8,
   "metadata": {},
   "outputs": [
    {
     "name": "stdout",
     "output_type": "stream",
     "text": [
      "(:Person {age: 21, location: '\\u4e0a\\u6d77', name: 'Amy'})\n"
     ]
    }
   ],
   "source": [
    "data = {\n",
    "    'name':'Amy',\n",
    "    'age':21\n",
    "}\n",
    "\n",
    "alice.update(data)\n",
    "print(alice)"
   ]
  },
  {
   "cell_type": "markdown",
   "metadata": {},
   "source": [
    "旧有的属性会被保留，新旧都有的会被更新"
   ]
  },
  {
   "cell_type": "markdown",
   "metadata": {},
   "source": [
    "## Subgraph 子图"
   ]
  },
  {
   "cell_type": "markdown",
   "metadata": {},
   "source": [
    "子图是Node和Relationship的集合，最简单的构造子图的方式是通过关系运算符"
   ]
  },
  {
   "cell_type": "code",
   "execution_count": 9,
   "metadata": {},
   "outputs": [],
   "source": [
    "from py2neo import Node, Relationship"
   ]
  },
  {
   "cell_type": "code",
   "execution_count": 11,
   "metadata": {},
   "outputs": [
    {
     "name": "stdout",
     "output_type": "stream",
     "text": [
      "Subgraph({Node('Person', name='Alice'), Node('Person', name='Bob')}, {KNOWS(Node('Person', name='Alice'), Node('Person', name='Bob'))})\n"
     ]
    }
   ],
   "source": [
    "alice = Node('Person', name='Alice')\n",
    "bob = Node('Person', name='Bob')\n",
    "relationship = Relationship(alice, 'KNOWS', bob)\n",
    "sub_graph = alice | bob | relationship\n",
    "print(sub_graph)"
   ]
  },
  {
   "cell_type": "markdown",
   "metadata": {},
   "source": [
    "### 添加数据"
   ]
  },
  {
   "cell_type": "markdown",
   "metadata": {},
   "source": [
    "其实上面的一系列操作，都没有实际保存到neo4j数据库中"
   ]
  },
  {
   "cell_type": "code",
   "execution_count": 13,
   "metadata": {},
   "outputs": [],
   "source": [
    "from py2neo import Node,Graph"
   ]
  },
  {
   "cell_type": "code",
   "execution_count": 15,
   "metadata": {},
   "outputs": [],
   "source": [
    "graph = Graph('bolt://localhost:7687', username='neo4j', password='123456')\n",
    "transaction = graph.begin()"
   ]
  },
  {
   "cell_type": "code",
   "execution_count": 16,
   "metadata": {},
   "outputs": [],
   "source": [
    "alice = Node('Person', name='Alice', location='北京', age=21)\n",
    "bob = Node('Person', name='Bob', location='上海', age=22)\n",
    "mike = Node('Person', name='Mike', location='重庆', age=21 )"
   ]
  },
  {
   "cell_type": "code",
   "execution_count": 17,
   "metadata": {},
   "outputs": [
    {
     "data": {
      "text/plain": [
       "<Bookmark 'FB:kcwQpR792zMVRG6xUlW8tVwKOWiQ'>"
      ]
     },
     "execution_count": 17,
     "metadata": {},
     "output_type": "execute_result"
    }
   ],
   "source": [
    "transaction.create(alice | bob | mike)\n",
    "transaction.commit()"
   ]
  },
  {
   "cell_type": "markdown",
   "metadata": {},
   "source": [
    "![](https://i.loli.net/2021/01/23/z8O7h1xk3KZ9VIJ.png)"
   ]
  },
  {
   "cell_type": "markdown",
   "metadata": {},
   "source": [
    "### 查询数据"
   ]
  },
  {
   "cell_type": "markdown",
   "metadata": {},
   "source": [
    "使用node和relationship数据类型自带的匹配属性"
   ]
  },
  {
   "cell_type": "code",
   "execution_count": 18,
   "metadata": {},
   "outputs": [],
   "source": [
    "from py2neo import Graph"
   ]
  },
  {
   "cell_type": "code",
   "execution_count": 19,
   "metadata": {},
   "outputs": [],
   "source": [
    "graph = Graph('bolt://localhost:7687', username='neo4j', password='123456')"
   ]
  },
  {
   "cell_type": "code",
   "execution_count": 22,
   "metadata": {},
   "outputs": [
    {
     "name": "stdout",
     "output_type": "stream",
     "text": [
      "[Node('Person', age=21, location='北京', name='Alice'), Node('Person', age=21, location='重庆', name='Mike')]\n"
     ]
    }
   ],
   "source": [
    "# TODO 据说是效率较慢，没测试过\n",
    "result = graph.nodes.match('Person', age=21)\n",
    "print(list(result))"
   ]
  },
  {
   "cell_type": "markdown",
   "metadata": {},
   "source": [
    "使用查询模块"
   ]
  },
  {
   "cell_type": "code",
   "execution_count": 23,
   "metadata": {},
   "outputs": [],
   "source": [
    "from py2neo import Graph\n",
    "from py2neo.matching import NodeMatcher"
   ]
  },
  {
   "cell_type": "code",
   "execution_count": 25,
   "metadata": {},
   "outputs": [],
   "source": [
    "graph = Graph('bolt://localhost:7687', username='neo4j', password='123456')\n",
    "node_matcher = NodeMatcher(graph=graph)"
   ]
  },
  {
   "cell_type": "code",
   "execution_count": 26,
   "metadata": {},
   "outputs": [
    {
     "name": "stdout",
     "output_type": "stream",
     "text": [
      "[Node('Person', age=21, location='北京', name='Alice'), Node('Person', age=21, location='重庆', name='Mike')]\n"
     ]
    }
   ],
   "source": [
    "# 写法一\n",
    "result = node_matcher.match('Person', age=21)\n",
    "print(list(result))"
   ]
  },
  {
   "cell_type": "code",
   "execution_count": 31,
   "metadata": {},
   "outputs": [
    {
     "name": "stdout",
     "output_type": "stream",
     "text": [
      "[Node('Person', age=21, location='北京', name='Alice'), Node('Person', age=21, location='重庆', name='Mike')]\n"
     ]
    }
   ],
   "source": [
    "# 写法二\n",
    "result = node_matcher.match('Person').where(age=21)\n",
    "print(list(result))"
   ]
  },
  {
   "cell_type": "markdown",
   "metadata": {},
   "source": [
    "上面的几个操作就相当于：\n",
    "\n",
    "```cypher\n",
    "match (p:Person) where p.age=21 return p\n",
    "```"
   ]
  },
  {
   "cell_type": "code",
   "execution_count": 29,
   "metadata": {},
   "outputs": [
    {
     "name": "stdout",
     "output_type": "stream",
     "text": [
      "(_10:Person {age: 21, location: '\\u5317\\u4eac', name: 'Alice'})\n"
     ]
    }
   ],
   "source": [
    "# 取第一个\n",
    "result = node_matcher.match('Person', age=21).first()\n",
    "print(result)"
   ]
  },
  {
   "cell_type": "markdown",
   "metadata": {},
   "source": [
    "```cypher\n",
    "match (p:Person) where p.age=21 return p limit 1\n",
    "```"
   ]
  },
  {
   "cell_type": "markdown",
   "metadata": {},
   "source": [
    "以上的py2neo匹配，其缺点在于匹配被人为的分割成了节点和关系的匹配，使用起来不够灵活，因为节点和关系的匹配常常是紧密关联的。不如原生的cypher灵活，它没有限定类型"
   ]
  },
  {
   "cell_type": "code",
   "execution_count": null,
   "metadata": {},
   "outputs": [],
   "source": []
  }
 ],
 "metadata": {
  "kernelspec": {
   "display_name": "Python 3",
   "language": "python",
   "name": "python3"
  },
  "language_info": {
   "codemirror_mode": {
    "name": "ipython",
    "version": 3
   },
   "file_extension": ".py",
   "mimetype": "text/x-python",
   "name": "python",
   "nbconvert_exporter": "python",
   "pygments_lexer": "ipython3",
   "version": "3.6.12"
  }
 },
 "nbformat": 4,
 "nbformat_minor": 2
}
